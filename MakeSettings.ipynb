{
  "nbformat": 4,
  "nbformat_minor": 0,
  "metadata": {
    "colab": {
      "provenance": [],
      "collapsed_sections": [],
      "mount_file_id": "1F8xcBh3iaYxTwmZokSuRhmvMxjc31a_O",
      "authorship_tag": "ABX9TyPE1gRsk/3DkQdXXytkE6zE",
      "include_colab_link": true
    },
    "kernelspec": {
      "name": "python3",
      "display_name": "Python 3"
    },
    "language_info": {
      "name": "python"
    }
  },
  "cells": [
    {
      "cell_type": "markdown",
      "metadata": {
        "id": "view-in-github",
        "colab_type": "text"
      },
      "source": [
        "<a href=\"https://colab.research.google.com/github/exicute/CrackFinderCascadeClassifier/blob/main/MakeSettings.ipynb\" target=\"_parent\"><img src=\"https://colab.research.google.com/assets/colab-badge.svg\" alt=\"Open In Colab\"/></a>"
      ]
    },
    {
      "cell_type": "code",
      "execution_count": null,
      "metadata": {
        "id": "I2XLE0ee5lXf"
      },
      "outputs": [],
      "source": [
        "import cv2 as cv\n",
        "from PIL import Image\n",
        "import os"
      ]
    },
    {
      "cell_type": "code",
      "source": [
        "def NegResizing(path):\n",
        "  for root, dirs, files in os.walk(path):\n",
        "    for file in files:\n",
        "      with Image.open(file) as img:\n",
        "        img = img.resize((170, 170))"
      ],
      "metadata": {
        "id": "NhSjuArO67bI"
      },
      "execution_count": null,
      "outputs": []
    }
  ]
}
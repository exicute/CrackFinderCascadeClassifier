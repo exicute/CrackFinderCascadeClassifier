{
  "nbformat": 4,
  "nbformat_minor": 0,
  "metadata": {
    "colab": {
      "provenance": [],
      "collapsed_sections": [],
      "mount_file_id": "1F8xcBh3iaYxTwmZokSuRhmvMxjc31a_O",
      "authorship_tag": "ABX9TyNRf1EiuI/z9xSVeFgHbGvZ",
      "include_colab_link": true
    },
    "kernelspec": {
      "name": "python3",
      "display_name": "Python 3"
    },
    "language_info": {
      "name": "python"
    }
  },
  "cells": [
    {
      "cell_type": "markdown",
      "metadata": {
        "id": "view-in-github",
        "colab_type": "text"
      },
      "source": [
        "<a href=\"https://colab.research.google.com/github/exicute/CrackFinderCascadeClassifier/blob/main/MakeSettings.ipynb\" target=\"_parent\"><img src=\"https://colab.research.google.com/assets/colab-badge.svg\" alt=\"Open In Colab\"/></a>"
      ]
    },
    {
      "cell_type": "code",
      "execution_count": null,
      "metadata": {
        "id": "I2XLE0ee5lXf"
      },
      "outputs": [],
      "source": [
        "import cv2 as cv\n",
        "from PIL import Image\n",
        "import os"
      ]
    },
    {
      "cell_type": "markdown",
      "source": [
        "Функция изменения размеров негативных изображений до 170х170"
      ],
      "metadata": {
        "id": "tuzkBOFJH6y1"
      }
    },
    {
      "cell_type": "code",
      "source": [
        "def NegResizing(path):\n",
        "  for root, dirs, files in os.walk(path):\n",
        "    for file in files:\n",
        "      with Image.open(file) as img:\n",
        "        img = img.resize((170, 170))"
      ],
      "metadata": {
        "id": "NhSjuArO67bI"
      },
      "execution_count": null,
      "outputs": []
    },
    {
      "cell_type": "markdown",
      "source": [
        "Функция по записи информации в dat файл в правильном формате"
      ],
      "metadata": {
        "id": "xWb4_dLKIA6K"
      }
    },
    {
      "cell_type": "code",
      "source": [
        "def MakeDat(path, datpath):\n",
        "  with open(datpath, 'w') as datfile:\n",
        "    for root, dirs, files in os.walk(path):\n",
        "      for file in files:\n",
        "        img = cv.imread(file)\n",
        "        datfile.write('{0} 0 0 {1} {2}\\n'.format(file, img.shape[0], img.shape[1])) "
      ],
      "metadata": {
        "id": "SFBo32l19tvM"
      },
      "execution_count": null,
      "outputs": []
    }
  ]
}